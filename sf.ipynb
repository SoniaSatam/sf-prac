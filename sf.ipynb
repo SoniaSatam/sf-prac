{
  "nbformat": 4,
  "nbformat_minor": 0,
  "metadata": {
    "colab": {
      "provenance": [],
      "authorship_tag": "ABX9TyOWd7M+dIDJeEKsh7ebqPVD",
      "include_colab_link": true
    },
    "kernelspec": {
      "name": "python3",
      "display_name": "Python 3"
    },
    "language_info": {
      "name": "python"
    }
  },
  "cells": [
    {
      "cell_type": "markdown",
      "metadata": {
        "id": "view-in-github",
        "colab_type": "text"
      },
      "source": [
        "<a href=\"https://colab.research.google.com/github/SoniaSatam/sf-prac/blob/master/sf.ipynb\" target=\"_parent\"><img src=\"https://colab.research.google.com/assets/colab-badge.svg\" alt=\"Open In Colab\"/></a>"
      ]
    },
    {
      "cell_type": "markdown",
      "source": [
        "## First Fit"
      ],
      "metadata": {
        "id": "0783dg_gIzrl"
      }
    },
    {
      "cell_type": "code",
      "execution_count": null,
      "metadata": {
        "id": "QhCvYQTWCRn-"
      },
      "outputs": [],
      "source": [
        "def firstFit(blockSize,procesSize):\n",
        "  n=len(blockSize)\n",
        "  m=len(processSize)\n",
        "  allocation=[-1]*m\n",
        "  for i in range(m):\n",
        "    for j in range(n):\n",
        "      if blockSize[j]>=processSize[i]:\n",
        "        allocation[i]=j\n",
        "        blockSize[j]-=processSize[i]\n",
        "        break\n",
        "  \n",
        "  print(\"Process No. \\t Process Size \\t Block No.\")\n",
        "  for i in range (m):\n",
        "    print(i+1,\"\\t\\t\",processSize[i],end='\\t\\t\\t')\n",
        "    if allocation[i]!=-1:\n",
        "      print(allocation[i]+1)\n",
        "    else:\n",
        "      print(\"No block allocated\")"
      ]
    },
    {
      "cell_type": "code",
      "source": [
        "blockSize=list(map(int,input(\"Enter the block size list: \").split()))\n",
        "processSize=list(map(int,input(\"Enter the process size list: \").split()))\n",
        "firstFit(blockSize,processSize)"
      ],
      "metadata": {
        "colab": {
          "base_uri": "https://localhost:8080/"
        },
        "id": "ivwosyCoH3b7",
        "outputId": "59c30dd9-44b4-4ad3-f270-b9cb4092ef22"
      },
      "execution_count": null,
      "outputs": [
        {
          "output_type": "stream",
          "name": "stdout",
          "text": [
            "Enter the block size list: 100 500 200 300 600\n",
            "Enter the process size list: 212 417 112 426\n",
            "Process No. \t Process Size \t Block No.\n",
            "1 \t\t 212\t\t\t2\n",
            "2 \t\t 417\t\t\t5\n",
            "3 \t\t 112\t\t\t2\n",
            "4 \t\t 426\t\t\tNo block allocated\n"
          ]
        }
      ]
    },
    {
      "cell_type": "markdown",
      "source": [
        "## Worst Fit"
      ],
      "metadata": {
        "id": "t9ZmAvjlI5T6"
      }
    },
    {
      "cell_type": "code",
      "source": [
        "def worstFit(blockSize,processSize):\n",
        " n=len(blockSize)\n",
        " m=len(processSize)\n",
        " allocation=[-1]*m\n",
        " for i in range(m):\n",
        "  worstIndex=-1\n",
        "  for j in range(n):\n",
        "    if blockSize[j]>=processSize[i]:\n",
        "      if worstIndex==-1:\n",
        "        worstIndex=j\n",
        "      elif blockSize[worstIndex]<blockSize[j]:\n",
        "        worstIndex=j\n",
        "  if worstIndex!=-1:\n",
        "    allocation[i]=worstIndex\n",
        "    blockSize[worstIndex]-=processSize[i]\n",
        " print(\"Process No. \\t Process Size \\t Block No.\")\n",
        " for i in range(m):\n",
        "  print(i+1,'\\t\\t',processSize[i],end='\\t\\t\\t')\n",
        "  if allocation[i]!=-1:\n",
        "    print(allocation[i]+1)\n",
        "  else:\n",
        "    print(\"No block allocated\")\n",
        "\n",
        "blockSize=list(map(int,input(\"Enter the block size list:\").split()))\n",
        "processSize=list(map(int,input(\"Enter the process size list:\").split()))\n",
        "worstFit(blockSize,processSize)"
      ],
      "metadata": {
        "colab": {
          "base_uri": "https://localhost:8080/"
        },
        "id": "nUOPy7z_I8I-",
        "outputId": "e04d95a9-ce77-4c43-ae5e-784ee3058df5"
      },
      "execution_count": null,
      "outputs": [
        {
          "output_type": "stream",
          "name": "stdout",
          "text": [
            "Enter the block size list:100 500 200 300 600\n",
            "Enter the process size list:212 417 1112 426\n",
            "Process No. \t Process Size \t Block No.\n",
            "1 \t\t 212\t\t\t5\n",
            "2 \t\t 417\t\t\t2\n",
            "3 \t\t 1112\t\t\tNo block allocated\n",
            "4 \t\t 426\t\t\tNo block allocated\n"
          ]
        }
      ]
    },
    {
      "cell_type": "markdown",
      "source": [
        "## Best Fit"
      ],
      "metadata": {
        "id": "LHJw7phXMyUd"
      }
    },
    {
      "cell_type": "code",
      "source": [
        "def bestFit(blockSize,processSize):\n",
        " n=len(blockSize)\n",
        " m=len(processSize)\n",
        " allocation=[-1]*m\n",
        " for i in range(m):\n",
        "  bestIndex=-1\n",
        "  minDiff=float('inf')\n",
        "  for j in range(n):\n",
        "    if blockSize[j]>processSize[i]:\n",
        "      diff=blockSize[j]-processSize[i]\n",
        "      if diff<minDiff:\n",
        "        bestIndex=j\n",
        "        minDiff=diff\n",
        "  if bestIndex!=-1:\n",
        "    allocation[i]=bestIndex\n",
        "    blockSize[bestIndex]-=processSize[i]\n",
        " print(\"Process No. \\t Process Size \\t Block No.\")\n",
        " for i in range(m):\n",
        "  print(i+1,\"\\t\\t\",processSize[i],end=\"\\t\\t\\t\")\n",
        "  if(allocation[i]!=-1):\n",
        "    print(allocation[i]+1)\n",
        "  else:\n",
        "    print(\"No block allocated\")\n",
        "\n",
        "blockSize=list(map(int,input(\"Enter block size list:\").split()))\n",
        "processSize=list(map(int,input(\"Enter the process size list:\").split()))\n",
        "bestFit(blockSize,processSize)\n"
      ],
      "metadata": {
        "colab": {
          "base_uri": "https://localhost:8080/"
        },
        "id": "M21t8yxWM36J",
        "outputId": "e46c6b66-1549-4167-96e8-3e0d7337aba7"
      },
      "execution_count": null,
      "outputs": [
        {
          "output_type": "stream",
          "name": "stdout",
          "text": [
            "Enter block size list:100 500 200 300 600\n",
            "Enter the process size list:212 417 112 426\n",
            "Process No. \t Process Size \t Block No.\n",
            "1 \t\t 212\t\t\t4\n",
            "2 \t\t 417\t\t\t2\n",
            "3 \t\t 112\t\t\t3\n",
            "4 \t\t 426\t\t\t5\n"
          ]
        }
      ]
    },
    {
      "cell_type": "markdown",
      "source": [
        "## FIFO"
      ],
      "metadata": {
        "id": "2CMOyk-iRAZn"
      }
    },
    {
      "cell_type": "code",
      "source": [
        "fr=int(input(\"Enter no of frame:\"))\n",
        "ref=input(\"Enter ref string: \")\n",
        "\n",
        "hit=0\n",
        "miss=0\n",
        "n=len(ref)\n",
        "que=[]\n",
        "ix=0\n",
        "\n",
        "for i in range(0,n):\n",
        "  if len(que)<fr:\n",
        "    que.append(ref[i])\n",
        "    print(que)\n",
        "    miss+=1\n",
        "  else:\n",
        "    if (ref[i]) in que:\n",
        "      hit+=1\n",
        "      print(\"Hit\")\n",
        "    else:\n",
        "      que[ix]=ref[i]\n",
        "      miss+=1\n",
        "\n",
        "      if ix==fr-1:\n",
        "        ix=0\n",
        "      else:\n",
        "        ix+=1\n",
        "      print(que)\n",
        "print(f\"Hit ratio: {hit/n}\")\n",
        "print(f\"Page Fault ratio: {miss/n}\")\n",
        "\n",
        "\n"
      ],
      "metadata": {
        "colab": {
          "base_uri": "https://localhost:8080/"
        },
        "id": "M54OJrdnSN3U",
        "outputId": "d836dce4-7bd7-46a3-8243-af824c46534b"
      },
      "execution_count": null,
      "outputs": [
        {
          "output_type": "stream",
          "name": "stdout",
          "text": [
            "Enter no of frame:4\n",
            "Enter ref string: 7 0 1 2 0 3 0 4 2 3 0 3 2\n",
            "['7']\n",
            "['7', ' ']\n",
            "['7', ' ', '0']\n",
            "['7', ' ', '0', ' ']\n",
            "['1', ' ', '0', ' ']\n",
            "Hit\n",
            "['1', '2', '0', ' ']\n",
            "Hit\n",
            "Hit\n",
            "Hit\n",
            "['1', '2', '3', ' ']\n",
            "Hit\n",
            "['1', '2', '3', '0']\n",
            "[' ', '2', '3', '0']\n",
            "[' ', '4', '3', '0']\n",
            "Hit\n",
            "[' ', '4', '2', '0']\n",
            "Hit\n",
            "[' ', '4', '2', '3']\n",
            "Hit\n",
            "['0', '4', '2', '3']\n",
            "['0', ' ', '2', '3']\n",
            "Hit\n",
            "Hit\n",
            "Hit\n",
            "Hit ratio: 0.44\n",
            "Page Fault ratio: 0.56\n"
          ]
        }
      ]
    },
    {
      "cell_type": "code",
      "source": [
        "l = []\n",
        "references = int(input(\"Enter the no of page references you want :\"))\n",
        "for i in range(references):\n",
        "  a = int(input(f\"Enter page reference{i+1} :\"))\n",
        "  l.append(a)\n",
        "\n",
        "mem_len = int(input(\"Enter the number of page frames :\"))\n",
        "hits = 0\n",
        "counter = 0\n",
        "memory = l[0:mem_len]\n",
        "l = l[mem_len:]\n",
        "\n",
        "for j in l:\n",
        "  if(j in memory):\n",
        "    hits = hits + 1\n",
        "    continue\n",
        "  memory[counter] = j\n",
        "  counter = (counter + 1)%mem_len\n",
        "\n",
        "hit_ratio = hits/references\n",
        "\n",
        "print(f\"The hit ratio is {hit_ratio}.\")"
      ],
      "metadata": {
        "colab": {
          "base_uri": "https://localhost:8080/"
        },
        "id": "JDJDjXZATeX6",
        "outputId": "cb021276-880c-4701-d307-33768421c847"
      },
      "execution_count": 3,
      "outputs": [
        {
          "output_type": "stream",
          "name": "stdout",
          "text": [
            "Enter the no of page references you want :13\n",
            "Enter page reference1 :7\n",
            "Enter page reference2 :0\n",
            "Enter page reference3 :1\n",
            "Enter page reference4 :2\n",
            "Enter page reference5 :0\n",
            "Enter page reference6 :3\n",
            "Enter page reference7 :0\n",
            "Enter page reference8 :4\n",
            "Enter page reference9 :2\n",
            "Enter page reference10 :3\n",
            "Enter page reference11 :0\n",
            "Enter page reference12 :3\n",
            "Enter page reference13 :2\n",
            "Enter the number of page frames :4\n",
            "The hit ratio is 0.46153846153846156.\n"
          ]
        }
      ]
    },
    {
      "cell_type": "markdown",
      "source": [
        "## LRU"
      ],
      "metadata": {
        "id": "xyszF0gMUpxn"
      }
    },
    {
      "cell_type": "code",
      "source": [
        "import numpy as np\n",
        "l = []\n",
        "references = int(input(\"Enter the number of page references you want :\"))\n",
        "for i in range(references):\n",
        "  a = int(input(f\"Enter page reference{i+1} : \"))\n",
        "  l.append(a)\n",
        "\n",
        "mem_len = int(input(\"Enter number of page frames :\"))\n",
        "hits = 0\n",
        "counter = 0\n",
        "memory = l[0:mem_len]\n",
        "l = l[mem_len:]\n",
        "\n",
        "list_check = [0 for _ in range(mem_len)]\n",
        "\n",
        "for j in l:\n",
        "  if(j in memory):\n",
        "    hits = hits + 1\n",
        "    list_check[memory.index(j)] = 0\n",
        "    continue\n",
        "  max_index = np.argmax(list_check)\n",
        "  for i in range(len(list_check)):\n",
        "    if(i == max_index):\n",
        "      list_check[i] = 0\n",
        "    else:\n",
        "      list_check[i] = list_check[i] + 1\n",
        "  memory[max_index] = j\n",
        "\n",
        "page_faults = references-hits\n",
        "print(page_faults)"
      ],
      "metadata": {
        "colab": {
          "base_uri": "https://localhost:8080/"
        },
        "id": "nqCOorZ1S-M4",
        "outputId": "9d1af9e0-20a9-4515-ca3a-b21a8b9192e5"
      },
      "execution_count": 2,
      "outputs": [
        {
          "output_type": "stream",
          "name": "stdout",
          "text": [
            "Enter the number of page references you want :10\n",
            "Enter page reference1 : 7\n",
            "Enter page reference2 : 0\n",
            "Enter page reference3 : 2\n",
            "Enter page reference4 : 1\n",
            "Enter page reference5 : 0\n",
            "Enter page reference6 : 5\n",
            "Enter page reference7 : 4\n",
            "Enter page reference8 : 6\n",
            "Enter page reference9 : 0\n",
            "Enter page reference10 : 1\n",
            "Enter number of page frames :3\n",
            "9\n"
          ]
        }
      ]
    },
    {
      "cell_type": "markdown",
      "source": [
        "## Optimal"
      ],
      "metadata": {
        "id": "-85AmIjEjQVl"
      }
    },
    {
      "cell_type": "code",
      "source": [
        "frames=int(input(\"Enter the number of frames:\"))\n",
        "ref=input(\"Enter ref string: \")\n",
        "n=len(ref)\n",
        "hit=0\n",
        "miss=0\n",
        "rank=[]"
      ],
      "metadata": {
        "id": "NhY5bt7gjFvM"
      },
      "execution_count": null,
      "outputs": []
    },
    {
      "cell_type": "markdown",
      "source": [
        "## FCFS Disk Scheduling"
      ],
      "metadata": {
        "id": "f5MtKwTWr4Ts"
      }
    },
    {
      "cell_type": "code",
      "source": [
        "def FCFS(request,head):\n",
        "  sequence=[head]+requests\n",
        "  seekTime=0\n",
        "\n",
        "  for i in range(len(sequence)-1):\n",
        "    distance=abs(sequence[i+1]-sequence[i])\n",
        "    seekTime+=distance\n",
        "  return seekTime,sequence\n",
        "n=int(input(\"Enter the max request:\"))\n",
        "head=int(input(\"Enter head:\"))\n",
        "requests=list(map(int,input(\"Enter requests:\").split()))\n",
        "seekTime,seekSequence=FCFS(requests,head)\n",
        "print(\"Total seek time:\",seekTime)\n",
        "print(\"Seek sequence:\",seekSequence)"
      ],
      "metadata": {
        "colab": {
          "base_uri": "https://localhost:8080/"
        },
        "id": "jSpBYzQYr91_",
        "outputId": "2c217f39-350f-4ea6-bb66-85f22f7b57ea"
      },
      "execution_count": null,
      "outputs": [
        {
          "output_type": "stream",
          "name": "stdout",
          "text": [
            "Enter the max request:200\n",
            "Enter head:55\n",
            "Enter requests:93 176 42 148 27 14 180\n",
            "Total seek time: 661\n",
            "Seek sequence: [55, 93, 176, 42, 148, 27, 14, 180]\n"
          ]
        }
      ]
    },
    {
      "cell_type": "markdown",
      "source": [
        "## SSTF Disk Scheduling"
      ],
      "metadata": {
        "id": "msd2okc5AVuG"
      }
    },
    {
      "cell_type": "code",
      "source": [
        "def SSTF(requests,head):\n",
        "  total_seek_time=0\n",
        "  sequence=[]\n",
        "\n",
        "  while requests:\n",
        "    closest_request=min(requests,key=lambda x: abs(x-head))\n",
        "    sequence.append(head)\n",
        "    total_seek_time+=abs(closest_request-head)\n",
        "    head=closest_request\n",
        "    requests.remove(closest_request)\n",
        "  return total_seek_time,sequence\n",
        "#requests = [82, 170, 43, 140, 24, 16, 190]\n",
        "n=int(input(\"Enter max request:\"))\n",
        "head=int(input(\"Enter head\"))\n",
        "requests=list(map(int,input(\"Enter the requests:\").split()))\n",
        "seekTime,seekSequence=SSTF(requests,head)\n",
        "print(\"Total seek time:\",seekTime)\n",
        "print(\"Seek sequence:\",seekSequence)"
      ],
      "metadata": {
        "colab": {
          "base_uri": "https://localhost:8080/"
        },
        "id": "hTaQn3owBPUX",
        "outputId": "2dfccc5b-1a68-4923-9cd9-5384a3b74e27"
      },
      "execution_count": null,
      "outputs": [
        {
          "output_type": "stream",
          "name": "stdout",
          "text": [
            "Enter max request:200\n",
            "Enter head50\n",
            "Enter the requests:82 170 43 140 24 16 190\n",
            "Total seek time: 208\n",
            "Seek sequence: [50, 43, 24, 16, 82, 140, 170]\n"
          ]
        }
      ]
    },
    {
      "cell_type": "markdown",
      "source": [
        "## SCAN Disk Scheduling"
      ],
      "metadata": {
        "id": "fuMAXv0ZEfmF"
      }
    },
    {
      "cell_type": "code",
      "source": [
        "def SCAN(head,n,requests):\n",
        "  sequence=sorted(requests)\n",
        "  if head in sequence:\n",
        "    sequence.remove(head)\n",
        "  sequence=[head]+[i for i in sequence if i>head]+[n]+[i for i in reversed(sequence) if i<head]\n",
        "  seekTime=sum(abs(sequence[i+1]-sequence[i])for i in range(len(sequence)-1))\n",
        "  return seekTime,sequence\n",
        "n=int(input(\"Enter max request:\"))\n",
        "head=int(input(\"Enter head\"))\n",
        "requests=list(map(int,input(\"Enter the requests:\").split()))\n",
        "seekTime,seekSequence=SCAN(head,n,requests)\n",
        "print(\"Total seek time:\",seekTime)\n",
        "print(\"Seek sequence:\",seekSequence)"
      ],
      "metadata": {
        "colab": {
          "base_uri": "https://localhost:8080/"
        },
        "id": "SHxv3AaMGFK2",
        "outputId": "a33b5f35-3a2f-46b9-b55b-4103b4b3d955"
      },
      "execution_count": null,
      "outputs": [
        {
          "output_type": "stream",
          "name": "stdout",
          "text": [
            "Enter max request:199\n",
            "Enter head50\n",
            "Enter the requests:95 180 34 119 11 123 62 64\n",
            "Total seek time: 337\n",
            "Seek sequence: [50, 62, 64, 95, 119, 123, 180, 199, 34, 11]\n"
          ]
        }
      ]
    },
    {
      "cell_type": "markdown",
      "source": [
        "## FCFS CPU Scheduling"
      ],
      "metadata": {
        "id": "QMKfpBzaBwkV"
      }
    },
    {
      "cell_type": "code",
      "source": [
        "import numpy as np\n",
        "import pandas as pd"
      ],
      "metadata": {
        "id": "lVTKatNMEjiu"
      },
      "execution_count": 3,
      "outputs": []
    },
    {
      "cell_type": "code",
      "source": [
        "n=int(input(\"Enter the number of processes\"))\n",
        "processes=[]\n",
        "for i in range (0,n):\n",
        "  processes.append(f\"P{i+1}\")\n",
        "arrival_time=[]\n",
        "for i in range(0,n):\n",
        "  temp=int(input(f\"Enter arrival time of process P{i+1} : \"))\n",
        "  arrival_time.append(temp)\n",
        "burst_time=[]\n",
        "for i in range(0,n):\n",
        "  temp=int(input(f\"Enter burst time of process P{i+1} : \"))\n",
        "  burst_time.append(temp)\n",
        "\n",
        "FT=[]\n",
        "ft_sum=0\n",
        "for i in range (0,n):\n",
        "  ft_sum+=burst_time[i]\n",
        "  FT.append(ft_sum)\n",
        "\n",
        "TAT=[]\n",
        "for i in range(0,n):\n",
        "  TAT.append(FT[i]-arrival_time[i])\n",
        "\n",
        "WT=[]\n",
        "for i in range(0,n):\n",
        "  WT.append(TAT[i]-burst_time[i])\n",
        "\n",
        "AVG_TAT=np.sum(TAT)/n\n",
        "AVG_WT=np.sum(WT)/n\n",
        "\n",
        "ans = {\"Processes\":processes, \"AT\":arrival_time, \"BT\":burst_time, \"FT\":FT, \"TAT\":TAT,\"WT\":WT}\n",
        "answer = pd.DataFrame(ans)\n",
        "print(answer)\n",
        "\n",
        "print(\"Average TAT:\"+str(AVG_TAT))\n",
        "print(\"Average WAT:\"+str(AVG_WT))\n"
      ],
      "metadata": {
        "colab": {
          "base_uri": "https://localhost:8080/"
        },
        "id": "HtjLGJWvB2Z7",
        "outputId": "50f35c4a-bfca-4a22-a295-8a3f34138609"
      },
      "execution_count": 2,
      "outputs": [
        {
          "output_type": "stream",
          "name": "stdout",
          "text": [
            "Enter the number of processes4\n",
            "Enter arrival time of process P1 : 0\n",
            "Enter arrival time of process P2 : 1\n",
            "Enter arrival time of process P3 : 2\n",
            "Enter arrival time of process P4 : 3\n",
            "Enter burst time of process P1 : 8\n",
            "Enter burst time of process P2 : 4\n",
            "Enter burst time of process P3 : 9\n",
            "Enter burst time of process P4 : 5\n",
            "Average TAT:15.25\n",
            "Average WAT:8.75\n"
          ]
        }
      ]
    },
    {
      "cell_type": "markdown",
      "source": [
        "## SJF CPU Scheduling"
      ],
      "metadata": {
        "id": "0PiYl3nnNJDY"
      }
    },
    {
      "cell_type": "code",
      "source": [
        "n = int(input(\"Enter the number of processes: \"))\n",
        "processes = []\n",
        "for i in range(n):\n",
        "    process = {}\n",
        "    process[\"name\"] = f\"P{i+1}\"\n",
        "    process[\"arrival_time\"] = int(input(f\"Enter arrival time of process P{i+1}: \"))\n",
        "    process[\"burst_time\"] = int(input(f\"Enter burst time of process P{i+1}: \"))\n",
        "    processes.append(process)\n",
        "\n",
        "processes.sort(key=lambda x: (x[\"arrival_time\"], x[\"burst_time\"]))\n",
        "\n",
        "completion_time = [0] * n\n",
        "turnaround_time = [0] * n\n",
        "waiting_time = [0] * n\n",
        "\n",
        "# Calculate completion time, turnaround time, and waiting time for each process\n",
        "completion_time[0] = processes[0][\"burst_time\"]\n",
        "for i in range(1, n):\n",
        "    completion_time[i] = completion_time[i - 1] + processes[i][\"burst_time\"]\n",
        "\n",
        "for i in range(n):\n",
        "    turnaround_time[i] = completion_time[i] - processes[i][\"arrival_time\"]\n",
        "    waiting_time[i] = turnaround_time[i] - processes[i][\"burst_time\"]\n",
        "\n",
        "total_turnaround_time = sum(turnaround_time)\n",
        "total_waiting_time = sum(waiting_time)\n",
        "average_turnaround_time = total_turnaround_time / n\n",
        "average_waiting_time = total_waiting_time / n\n",
        "\n",
        "# Print the results\n",
        "print(\"Process\\tArrival Time\\tBurst Time\\tCompletion Time\\tTurnaround Time\\tWaiting Time\")\n",
        "for i in range(n):\n",
        "    print(f\"{processes[i]['name']}\\t\\t{processes[i]['arrival_time']}\\t\\t{processes[i]['burst_time']}\\t\\t\"\n",
        "          f\"{completion_time[i]}\\t\\t{turnaround_time[i]}\\t\\t{waiting_time[i]}\")\n",
        "print(\"Average Turnaround Time:\", average_turnaround_time)\n",
        "print(\"Average Waiting Time:\", average_waiting_time)"
      ],
      "metadata": {
        "colab": {
          "base_uri": "https://localhost:8080/"
        },
        "id": "Y56udIATPtaw",
        "outputId": "ccc67db3-4202-4b84-b079-ea4b6284d74a"
      },
      "execution_count": 13,
      "outputs": [
        {
          "output_type": "stream",
          "name": "stdout",
          "text": [
            "Enter the number of processes: 5\n",
            "Enter arrival time of process P1: 0\n",
            "Enter burst time of process P1: 10\n",
            "Enter arrival time of process P2: 0\n",
            "Enter burst time of process P2: 1\n",
            "Enter arrival time of process P3: 0\n",
            "Enter burst time of process P3: 2\n",
            "Enter arrival time of process P4: 0\n",
            "Enter burst time of process P4: 1\n",
            "Enter arrival time of process P5: 0\n",
            "Enter burst time of process P5: 5\n",
            "Process\tArrival Time\tBurst Time\tCompletion Time\tTurnaround Time\tWaiting Time\n",
            "P2\t\t0\t\t1\t\t1\t\t1\t\t0\n",
            "P4\t\t0\t\t1\t\t2\t\t2\t\t1\n",
            "P3\t\t0\t\t2\t\t4\t\t4\t\t2\n",
            "P5\t\t0\t\t5\t\t9\t\t9\t\t4\n",
            "P1\t\t0\t\t10\t\t19\t\t19\t\t9\n",
            "Average Turnaround Time: 7.0\n",
            "Average Waiting Time: 3.2\n"
          ]
        }
      ]
    },
    {
      "cell_type": "markdown",
      "source": [
        "Non Preemptive Priority"
      ],
      "metadata": {
        "id": "9Gpy_8pqV6jH"
      }
    },
    {
      "cell_type": "code",
      "source": [
        "n = int(input(\"Enter the number of processes: \"))\n",
        "processes = []\n",
        "for i in range(n):\n",
        "    process = {}\n",
        "    process[\"name\"] = f\"P{i+1}\"\n",
        "    process[\"burst_time\"] = int(input(f\"Enter burst time of process P{i+1}: \"))\n",
        "    process[\"priority\"] = int(input(f\"Enter priority of process P{i+1}: \"))\n",
        "    processes.append(process)\n",
        "processes.sort(key=lambda x: x[\"priority\"])\n",
        "\n",
        "completion_time = [0] * len(processes)\n",
        "turnaround_time = [0] * len(processes)\n",
        "waiting_time = [0] * len(processes)\n",
        "\n",
        "completion_time[0] = processes[0][\"burst_time\"]\n",
        "for i in range(1, len(processes)):\n",
        "    completion_time[i] = completion_time[i - 1] + processes[i][\"burst_time\"]\n",
        "\n",
        "for i in range(len(processes)):\n",
        "    turnaround_time[i] = completion_time[i]\n",
        "    waiting_time[i] = turnaround_time[i] - processes[i][\"burst_time\"]\n",
        "\n",
        "total_turnaround_time = sum(turnaround_time)\n",
        "total_waiting_time = sum(waiting_time)\n",
        "average_turnaround_time = total_turnaround_time / len(processes)\n",
        "average_waiting_time = total_waiting_time / len(processes)\n",
        "\n",
        "# Print the results\n",
        "print(\"Process\\tBurst Time\\tPriority\\tCompletion Time\\tTurnaround Time\\tWaiting Time\")\n",
        "for i in range(len(processes)):\n",
        "    print(f\"{processes[i]['name']}\\t\\t{processes[i]['burst_time']}\\t\\t{processes[i]['priority']}\\t\\t{completion_time[i]}\\t\\t{turnaround_time[i]}\\t\\t{waiting_time[i]}\")\n",
        "print(\"Average Turnaround Time:\", average_turnaround_time)\n",
        "print(\"Average Waiting Time:\", average_waiting_time)\n"
      ],
      "metadata": {
        "colab": {
          "base_uri": "https://localhost:8080/"
        },
        "id": "4sUqjqktReyP",
        "outputId": "14a32483-c9b0-490a-8541-c3712a4dfb72"
      },
      "execution_count": 11,
      "outputs": [
        {
          "output_type": "stream",
          "name": "stdout",
          "text": [
            "Enter the number of processes: 5\n",
            "Enter burst time of process P1: 6\n",
            "Enter priority of process P1: 1\n",
            "Enter burst time of process P2: 8\n",
            "Enter priority of process P2: 2\n",
            "Enter burst time of process P3: 4\n",
            "Enter priority of process P3: 2\n",
            "Enter burst time of process P4: 10\n",
            "Enter priority of process P4: 3\n",
            "Enter burst time of process P5: 3\n",
            "Enter priority of process P5: 4\n",
            "Process\tBurst Time\tPriority\tCompletion Time\tTurnaround Time\tWaiting Time\n",
            "P1\t\t6\t\t1\t\t6\t\t6\t\t0\n",
            "P2\t\t8\t\t2\t\t14\t\t14\t\t6\n",
            "P3\t\t4\t\t2\t\t18\t\t18\t\t14\n",
            "P4\t\t10\t\t3\t\t28\t\t28\t\t18\n",
            "P5\t\t3\t\t4\t\t31\t\t31\t\t28\n",
            "Average Turnaround Time: 19.4\n",
            "Average Waiting Time: 13.2\n"
          ]
        }
      ]
    },
    {
      "cell_type": "markdown",
      "source": [
        "## Bankers Algorithm"
      ],
      "metadata": {
        "id": "LZspcyh2bsQ7"
      }
    },
    {
      "cell_type": "code",
      "source": [
        "n = int(input(\"Enter number of processes : \"))\n",
        "r = int(input(\"Enter number of resources : \"))\n",
        "maxResources = []\n",
        "allocated = []\n",
        "maxRequired = []\n",
        "available = []\n",
        "need = []\n",
        "for i in range(r):\n",
        "    maxResources.append(int(input(f\"Enter number of resources of type {i+1} : \")))\n",
        "for i in range(0,n):\n",
        "    print(f\"Enter number of allocated resources for process {i+1} :\")\n",
        "    temp = []\n",
        "    for j in range(r):\n",
        "        temp.append(int(input(f\"Number of resource {j+1} : \")))\n",
        "    allocated.append(temp)\n",
        "for i in range(0,n):\n",
        "    print(f\"Enter maximum number of resources for process {i+1} :\")\n",
        "    temp = []\n",
        "    for j in range(0,r):\n",
        "        temp.append(int(input(f\"Number of resource {j+1} : \")))\n",
        "    maxRequired.append(temp)\n",
        "for i in range(0,r):\n",
        "    temp = 0\n",
        "    for j in range(0,n):\n",
        "        temp+=allocated[j][i]\n",
        "    available.append(maxResources[i] - temp)\n",
        "for i in range(0,n):\n",
        "    temp = []\n",
        "    for j in range(0,r):\n",
        "        temp.append(maxRequired[i][j]-allocated[i][j])\n",
        "    need.append(temp)\n",
        "\n",
        "visited = [0]*n\n",
        "order = []\n",
        "n1 = n\n",
        "\n",
        "while n1:\n",
        "    for i in range(n):\n",
        "        if visited[i]==0:\n",
        "            flag = 1\n",
        "            for j in range(0,r):\n",
        "                if available[j]<need[i][j]:\n",
        "                    flag=0\n",
        "                    break\n",
        "            if flag:\n",
        "                visited[i]=1\n",
        "                order.append(f\"P{i+1}\")\n",
        "                for j in range(0,r):\n",
        "                    available[j]+=allocated[i][j]\n",
        "    n1-=1\n",
        "print(\"The sequence of executed processes is :\", order)\n",
        "if len(order)==n:\n",
        "    print(\"Since all processes are executed, the system is in safe state.\")\n",
        "else:\n",
        "    print(\"Since all processes are not executed, the system is in unsafe state.\")"
      ],
      "metadata": {
        "id": "067W3y-pvHeX"
      },
      "execution_count": null,
      "outputs": []
    }
  ]
}